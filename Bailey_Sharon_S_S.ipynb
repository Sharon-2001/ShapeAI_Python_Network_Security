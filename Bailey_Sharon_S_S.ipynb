{
  "nbformat": 4,
  "nbformat_minor": 0,
  "metadata": {
    "colab": {
      "name": "Bailey_Sharon_S_S.ipynb",
      "provenance": []
    },
    "kernelspec": {
      "name": "python3",
      "display_name": "Python 3"
    },
    "language_info": {
      "name": "python"
    }
  },
  "cells": [
    {
      "cell_type": "code",
      "metadata": {
        "id": "48VIlt3AaLVz"
      },
      "source": [
        "import hashlib\n",
        "Text=input ('What do you want to hash : ')\n",
        "hash=hashlib.md5(Text.encode())\n",
        "print(('Hashed String : ') + (hash.hexdigest()))"
      ],
      "execution_count": null,
      "outputs": []
    },
    {
      "cell_type": "code",
      "metadata": {
        "id": "Cl8lDZDmaQrC"
      },
      "source": [
        "import hashlib\n",
        "print(hashlib.algorithms_available)"
      ],
      "execution_count": null,
      "outputs": []
    },
    {
      "cell_type": "code",
      "metadata": {
        "id": "IfbT5jjxaUmj"
      },
      "source": [
        "import hashlib\n",
        "Text=input ('What do you want to hash : ')\n",
        "hash=hashlib.sha1(Text.encode())\n",
        "print(('Hashed String : ') + (hash.hexdigest()))"
      ],
      "execution_count": null,
      "outputs": []
    },
    {
      "cell_type": "code",
      "metadata": {
        "id": "FOXwGcXwaXvS"
      },
      "source": [
        "import hashlib\n",
        "Text=input ('What do you want to hash : ')\n",
        "hash=hashlib.sha512(Text.encode())\n",
        "print(('Hashed String : ') + (hash.hexdigest()))"
      ],
      "execution_count": null,
      "outputs": []
    },
    {
      "cell_type": "code",
      "metadata": {
        "id": "zwtWnATwadlY"
      },
      "source": [
        "import hashlib\n",
        "Text=input ('What do you want to hash : ')\n",
        "hash=hashlib.sha256(Text.encode())\n",
        "print(('Hashed String : ') + (hash.hexdigest()))"
      ],
      "execution_count": null,
      "outputs": []
    }
  ]
}